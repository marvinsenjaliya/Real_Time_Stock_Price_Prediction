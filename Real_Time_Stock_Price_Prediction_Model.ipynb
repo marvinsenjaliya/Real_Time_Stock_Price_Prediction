{
 "cells": [
  {
   "cell_type": "markdown",
   "metadata": {
    "collapsed": false
   },
   "source": [
    "# Load the data"
   ]
  },
  {
   "cell_type": "code",
   "execution_count": 1,
   "metadata": {
    "collapsed": true
   },
   "outputs": [],
   "source": [
    "import boto3\n",
    "import s3fs\n",
    "import pandas as pd"
   ]
  },
  {
   "cell_type": "code",
   "execution_count": 2,
   "metadata": {
    "collapsed": true
   },
   "outputs": [],
   "source": [
    "client = boto3.client('s3')"
   ]
  },
  {
   "cell_type": "code",
   "execution_count": 3,
   "metadata": {
    "collapsed": true
   },
   "outputs": [],
   "source": [
    "line = list()\n",
    "with open('awskeys.txt' , 'r') as file:\n",
    "    for lines in file:\n",
    "        line.append(lines)"
   ]
  },
  {
   "cell_type": "code",
   "execution_count": 4,
   "metadata": {
    "collapsed": true
   },
   "outputs": [],
   "source": [
    "from boto.s3.connection import S3Connection\n",
    "conn = S3Connection(line[0] ,line[1], host='s3.ap-south-1.amazonaws.com')"
   ]
  },
  {
   "cell_type": "code",
   "execution_count": 5,
   "metadata": {
    "collapsed": true
   },
   "outputs": [],
   "source": [
    "path = 's3n://stockpricebucket/Google_Stock_Price_Train.csv'"
   ]
  },
  {
   "cell_type": "code",
   "execution_count": 9,
   "metadata": {
    "collapsed": true
   },
   "outputs": [],
   "source": [
    "dataframe = pd.read_csv(path)"
   ]
  },
  {
   "cell_type": "code",
   "execution_count": 10,
   "metadata": {
    "collapsed": true
   },
   "outputs": [],
   "source": [
    "from pyspark import SparkConf, SparkContext\n",
    "from pyspark.sql import SQLContext\n",
    "from pyspark.sql import SparkSession"
   ]
  },
  {
   "cell_type": "code",
   "execution_count": 11,
   "metadata": {
    "collapsed": false
   },
   "outputs": [
    {
     "name": "stderr",
     "output_type": "stream",
     "text": [
      "/home/hadoopmarvin1/spark-3.0.0-preview2-bin-hadoop2.7/python/pyspark/context.py:219: DeprecationWarning: Support for Python 2 and Python 3 prior to version 3.6 is deprecated as of Spark 3.0. See also the plan for dropping Python 2 support at https://spark.apache.org/news/plan-for-dropping-python-2-support.html.\n",
      "  DeprecationWarning)\n"
     ]
    }
   ],
   "source": [
    "sc = SparkContext()\n",
    "sparkSession = SparkSession(sc)\n",
    "stock_price_history = sparkSession.createDataFrame(dataframe)"
   ]
  },
  {
   "cell_type": "code",
   "execution_count": 12,
   "metadata": {
    "collapsed": false
   },
   "outputs": [
    {
     "data": {
      "text/plain": [
       "[Row(Date='05/12/2020', Close/Last=1375.74, Volume=1390600, Open=1407.12, High=1415.0, Low=1374.77),\n",
       " Row(Date='05/11/2020', Close/Last=1403.26, Volume=1412116, Open=1378.28, High=1416.53, Low=1377.152),\n",
       " Row(Date='05/08/2020', Close/Last=1388.37, Volume=1388068, Open=1383.13, High=1398.76, Low=1375.48),\n",
       " Row(Date='05/07/2020', Close/Last=1372.56, Volume=1399759, Open=1365.94, High=1377.6, Low=1355.27),\n",
       " Row(Date='05/06/2020', Close/Last=1347.3, Volume=1215423, Open=1361.69, High=1371.1199, Low=1347.29)]"
      ]
     },
     "execution_count": 12,
     "metadata": {},
     "output_type": "execute_result"
    }
   ],
   "source": [
    "stock_price_history.take(5)"
   ]
  },
  {
   "cell_type": "code",
   "execution_count": 13,
   "metadata": {
    "collapsed": false
   },
   "outputs": [
    {
     "data": {
      "text/plain": [
       "Row(Date='05/12/2020', Close/Last=1375.74, Volume=1390600, Open=1407.12, High=1415.0, Low=1374.77)"
      ]
     },
     "execution_count": 13,
     "metadata": {},
     "output_type": "execute_result"
    }
   ],
   "source": [
    "stock_price_history.head()"
   ]
  },
  {
   "cell_type": "markdown",
   "metadata": {},
   "source": [
    "# Data exploration"
   ]
  },
  {
   "cell_type": "code",
   "execution_count": 14,
   "metadata": {
    "collapsed": false
   },
   "outputs": [
    {
     "data": {
      "text/plain": [
       "DataFrame[Date: string, Close/Last: double, Volume: bigint, Open: double, High: double, Low: double]"
      ]
     },
     "execution_count": 14,
     "metadata": {},
     "output_type": "execute_result"
    }
   ],
   "source": [
    "stock_price_history.cache()"
   ]
  },
  {
   "cell_type": "code",
   "execution_count": 16,
   "metadata": {
    "collapsed": false
   },
   "outputs": [
    {
     "name": "stdout",
     "output_type": "stream",
     "text": [
      "root\n",
      " |-- Date: string (nullable = true)\n",
      " |-- Close/Last: double (nullable = true)\n",
      " |-- Volume: long (nullable = true)\n",
      " |-- Open: double (nullable = true)\n",
      " |-- High: double (nullable = true)\n",
      " |-- Low: double (nullable = true)\n",
      "\n"
     ]
    }
   ],
   "source": [
    "stock_price_history.printSchema()"
   ]
  },
  {
   "cell_type": "code",
   "execution_count": 17,
   "metadata": {
    "collapsed": false
   },
   "outputs": [],
   "source": [
    "stock_price_history_2 = stock_price_history.withColumnRenamed(\"Close/Last\",\"Close\")"
   ]
  },
  {
   "cell_type": "code",
   "execution_count": 18,
   "metadata": {
    "collapsed": false
   },
   "outputs": [
    {
     "name": "stdout",
     "output_type": "stream",
     "text": [
      "root\n",
      " |-- Date: string (nullable = true)\n",
      " |-- Close: double (nullable = true)\n",
      " |-- Volume: double (nullable = true)\n",
      " |-- Open: double (nullable = true)\n",
      " |-- High: double (nullable = true)\n",
      " |-- Low: double (nullable = true)\n",
      "\n",
      "+----------+-------+---------+-------+---------+--------+\n",
      "|      Date|  Close|   Volume|   Open|     High|     Low|\n",
      "+----------+-------+---------+-------+---------+--------+\n",
      "|05/12/2020|1375.74|1390600.0|1407.12|   1415.0| 1374.77|\n",
      "|05/11/2020|1403.26|1412116.0|1378.28|  1416.53|1377.152|\n",
      "|05/08/2020|1388.37|1388068.0|1383.13|  1398.76| 1375.48|\n",
      "|05/07/2020|1372.56|1399759.0|1365.94|   1377.6| 1355.27|\n",
      "|05/06/2020| 1347.3|1215423.0|1361.69|1371.1199| 1347.29|\n",
      "|05/05/2020|1351.11|1651533.0|1337.92|  1373.94| 1337.46|\n",
      "|05/04/2020| 1326.8|1504017.0|1308.23|  1327.66|  1299.0|\n",
      "|05/01/2020|1320.61|2072639.0| 1328.5|1352.0695|  1311.0|\n",
      "|04/30/2020|1348.66|2668906.0|1324.88|  1352.82| 1322.49|\n",
      "|04/29/2020|1341.48|3793624.0|1341.46|  1359.99| 1325.34|\n",
      "|04/28/2020|1233.67|2951309.0|1287.93|  1288.05|  1232.2|\n",
      "|04/27/2020|1275.88|1600563.0| 1296.0|  1296.15|  1269.0|\n",
      "|04/24/2020|1279.31|1640394.0|1261.17|   1280.4| 1249.45|\n",
      "|04/23/2020|1276.31|1566203.0|1271.55|  1293.31| 1265.67|\n",
      "|04/22/2020|1263.21|2093140.0|1245.54|1285.6133|  1242.0|\n",
      "|04/21/2020|1216.34|2153003.0| 1247.0|  1254.27| 1209.71|\n",
      "|04/20/2020|1266.61|1695488.0| 1271.0|   1281.6| 1261.37|\n",
      "|04/17/2020|1283.25|1949042.0|1284.85|  1294.43| 1271.23|\n",
      "|04/16/2020|1263.47|2518099.0| 1274.1|   1279.0| 1242.62|\n",
      "|04/15/2020|1262.47|1671703.0|1245.61|  1280.46|  1240.4|\n",
      "+----------+-------+---------+-------+---------+--------+\n",
      "only showing top 20 rows\n",
      "\n"
     ]
    }
   ],
   "source": [
    "stock_price_history_filtered_datatype = stock_price_history_2.selectExpr(\"cast(Volume as double) Volume\")\n",
    "stock_price_history_filtered_datatype.printSchema()\n",
    "stock_price_history_filtered_datatype.show()\n"
   ]
  },
  {
   "cell_type": "code",
   "execution_count": 19,
   "metadata": {
    "collapsed": false
   },
   "outputs": [
    {
     "data": {
      "text/html": [
       "<div>\n",
       "<style scoped>\n",
       "    .dataframe tbody tr th:only-of-type {\n",
       "        vertical-align: middle;\n",
       "    }\n",
       "\n",
       "    .dataframe tbody tr th {\n",
       "        vertical-align: top;\n",
       "    }\n",
       "\n",
       "    .dataframe thead th {\n",
       "        text-align: right;\n",
       "    }\n",
       "</style>\n",
       "<table border=\"1\" class=\"dataframe\">\n",
       "  <thead>\n",
       "    <tr style=\"text-align: right;\">\n",
       "      <th></th>\n",
       "      <th>0</th>\n",
       "      <th>1</th>\n",
       "      <th>2</th>\n",
       "      <th>3</th>\n",
       "      <th>4</th>\n",
       "    </tr>\n",
       "  </thead>\n",
       "  <tbody>\n",
       "    <tr>\n",
       "      <th>summary</th>\n",
       "      <td>count</td>\n",
       "      <td>mean</td>\n",
       "      <td>stddev</td>\n",
       "      <td>min</td>\n",
       "      <td>max</td>\n",
       "    </tr>\n",
       "    <tr>\n",
       "      <th>Date</th>\n",
       "      <td>1543</td>\n",
       "      <td>None</td>\n",
       "      <td>None</td>\n",
       "      <td>01/02/2015</td>\n",
       "      <td>12/31/2019</td>\n",
       "    </tr>\n",
       "    <tr>\n",
       "      <th>Close</th>\n",
       "      <td>1543</td>\n",
       "      <td>892.9923972132204</td>\n",
       "      <td>265.69879489557223</td>\n",
       "      <td>492.55</td>\n",
       "      <td>1526.69</td>\n",
       "    </tr>\n",
       "    <tr>\n",
       "      <th>Volume</th>\n",
       "      <td>1543</td>\n",
       "      <td>1749821.0311082308</td>\n",
       "      <td>878745.042713821</td>\n",
       "      <td>7932.0</td>\n",
       "      <td>1.11535E7</td>\n",
       "    </tr>\n",
       "    <tr>\n",
       "      <th>Open</th>\n",
       "      <td>1543</td>\n",
       "      <td>892.712746597537</td>\n",
       "      <td>265.1248567402656</td>\n",
       "      <td>494.65</td>\n",
       "      <td>1525.07</td>\n",
       "    </tr>\n",
       "    <tr>\n",
       "      <th>High</th>\n",
       "      <td>1543</td>\n",
       "      <td>900.7310641607256</td>\n",
       "      <td>268.19693888925013</td>\n",
       "      <td>495.976</td>\n",
       "      <td>1532.1063</td>\n",
       "    </tr>\n",
       "    <tr>\n",
       "      <th>Low</th>\n",
       "      <td>1543</td>\n",
       "      <td>884.5988007777053</td>\n",
       "      <td>262.7931625664658</td>\n",
       "      <td>487.56</td>\n",
       "      <td>1521.4</td>\n",
       "    </tr>\n",
       "  </tbody>\n",
       "</table>\n",
       "</div>"
      ],
      "text/plain": [
       "             0                   1                   2           3           4\n",
       "summary  count                mean              stddev         min         max\n",
       "Date      1543                None                None  01/02/2015  12/31/2019\n",
       "Close     1543   892.9923972132204  265.69879489557223      492.55     1526.69\n",
       "Volume    1543  1749821.0311082308    878745.042713821      7932.0   1.11535E7\n",
       "Open      1543    892.712746597537   265.1248567402656      494.65     1525.07\n",
       "High      1543   900.7310641607256  268.19693888925013     495.976   1532.1063\n",
       "Low       1543   884.5988007777053   262.7931625664658      487.56      1521.4"
      ]
     },
     "execution_count": 19,
     "metadata": {},
     "output_type": "execute_result"
    }
   ],
   "source": [
    "stock_price_history_filtered_datatype.describe().toPandas().transpose()"
   ]
  },
  {
   "cell_type": "markdown",
   "metadata": {},
   "source": [
    "# Prepare data for Machine Learning"
   ]
  },
  {
   "cell_type": "code",
   "execution_count": 20,
   "metadata": {
    "collapsed": true
   },
   "outputs": [],
   "source": [
    "from pyspark.ml.feature import VectorAssembler"
   ]
  },
  {
   "cell_type": "code",
   "execution_count": 21,
   "metadata": {
    "collapsed": false
   },
   "outputs": [],
   "source": [
    "vectorAssembler = VectorAssembler(inputCols = ['Open','High','Low'], outputCol = 'features')"
   ]
  },
  {
   "cell_type": "code",
   "execution_count": 22,
   "metadata": {
    "collapsed": false
   },
   "outputs": [],
   "source": [
    "stock_price_history_df = vectorAssembler.transform(stock_price_history_filtered_datatype)"
   ]
  },
  {
   "cell_type": "code",
   "execution_count": 23,
   "metadata": {
    "collapsed": true
   },
   "outputs": [],
   "source": [
    "stock_price_history_df = stock_price_history_df.select(['features','Close'])"
   ]
  },
  {
   "cell_type": "code",
   "execution_count": 24,
   "metadata": {
    "collapsed": false
   },
   "outputs": [
    {
     "name": "stdout",
     "output_type": "stream",
     "text": [
      "+--------------------+-------+\n",
      "|            features|  Close|\n",
      "+--------------------+-------+\n",
      "|[1407.12,1415.0,1...|1375.74|\n",
      "|[1378.28,1416.53,...|1403.26|\n",
      "|[1383.13,1398.76,...|1388.37|\n",
      "|[1365.94,1377.6,1...|1372.56|\n",
      "|[1361.69,1371.119...| 1347.3|\n",
      "|[1337.92,1373.94,...|1351.11|\n",
      "|[1308.23,1327.66,...| 1326.8|\n",
      "|[1328.5,1352.0695...|1320.61|\n",
      "|[1324.88,1352.82,...|1348.66|\n",
      "|[1341.46,1359.99,...|1341.48|\n",
      "|[1287.93,1288.05,...|1233.67|\n",
      "|[1296.0,1296.15,1...|1275.88|\n",
      "|[1261.17,1280.4,1...|1279.31|\n",
      "|[1271.55,1293.31,...|1276.31|\n",
      "|[1245.54,1285.613...|1263.21|\n",
      "|[1247.0,1254.27,1...|1216.34|\n",
      "|[1271.0,1281.6,12...|1266.61|\n",
      "|[1284.85,1294.43,...|1283.25|\n",
      "|[1274.1,1279.0,12...|1263.47|\n",
      "|[1245.61,1280.46,...|1262.47|\n",
      "+--------------------+-------+\n",
      "only showing top 20 rows\n",
      "\n"
     ]
    }
   ],
   "source": [
    "stock_price_history_df.show()"
   ]
  },
  {
   "cell_type": "markdown",
   "metadata": {},
   "source": [
    "# splits the dataset"
   ]
  },
  {
   "cell_type": "code",
   "execution_count": 25,
   "metadata": {
    "collapsed": true
   },
   "outputs": [],
   "source": [
    "splits = stock_price_history_df.randomSplit([0.7, 0.3])\n",
    "train_df = splits[0]\n",
    "test_df = splits[1]"
   ]
  },
  {
   "cell_type": "markdown",
   "metadata": {},
   "source": [
    "# Model training"
   ]
  },
  {
   "cell_type": "code",
   "execution_count": 26,
   "metadata": {
    "collapsed": true
   },
   "outputs": [],
   "source": [
    "from pyspark.ml.regression import LinearRegression"
   ]
  },
  {
   "cell_type": "code",
   "execution_count": 27,
   "metadata": {
    "collapsed": false
   },
   "outputs": [],
   "source": [
    "LinearRegressor = LinearRegression(featuresCol = 'features', labelCol='Close', maxIter=10, regParam=0.3, elasticNetParam=0.8)"
   ]
  },
  {
   "cell_type": "code",
   "execution_count": 28,
   "metadata": {
    "collapsed": true
   },
   "outputs": [],
   "source": [
    "LinearRegression_model = LinearRegressor.fit(train_df)"
   ]
  },
  {
   "cell_type": "markdown",
   "metadata": {},
   "source": [
    "# Model Testing"
   ]
  },
  {
   "cell_type": "code",
   "execution_count": 29,
   "metadata": {
    "collapsed": false
   },
   "outputs": [
    {
     "name": "stdout",
     "output_type": "stream",
     "text": [
      "+-----------------+------+--------------------+\n",
      "|       prediction| Close|            features|\n",
      "+-----------------+------+--------------------+\n",
      "|842.9454962880578|843.19|[842.88,843.88,84...|\n",
      "|857.0873498191976|862.76|[851.2,863.45,849...|\n",
      "| 909.009341724517|912.57|[901.94,915.68,90...|\n",
      "|907.7381568790252|906.69|[904.12,914.9444,...|\n",
      "|914.5006438243346|921.29|[905.1,923.33,905.0]|\n",
      "+-----------------+------+--------------------+\n",
      "only showing top 5 rows\n",
      "\n"
     ]
    }
   ],
   "source": [
    "model_predictions = LinearRegression_model.transform(test_df)\n",
    "model_predictions.select(\"prediction\",\"Close\",\"features\").show(5)"
   ]
  },
  {
   "cell_type": "code",
   "execution_count": 30,
   "metadata": {
    "collapsed": false
   },
   "outputs": [
    {
     "name": "stdout",
     "output_type": "stream",
     "text": [
      "Coefficients: [0.0,0.4729970038552547,0.5275704282605069]\n",
      "Intercept: 0.3170826789033278\n"
     ]
    }
   ],
   "source": [
    "print(\"Coefficients: \" + str(LinearRegression_model.coefficients))\n",
    "print(\"Intercept: \" + str(LinearRegression_model.intercept))"
   ]
  },
  {
   "cell_type": "code",
   "execution_count": 38,
   "metadata": {
    "collapsed": false
   },
   "outputs": [
    {
     "name": "stdout",
     "output_type": "stream",
     "text": [
      "RMSE: 6.617300\n",
      "r2: 0.999393\n"
     ]
    }
   ],
   "source": [
    "trainingSummary = LinearRegression_model.summary\n",
    "print(\"RMSE: %f\" % trainingSummary.rootMeanSquaredError)\n",
    "print(\"r2: %f\" % trainingSummary.r2)"
   ]
  },
  {
   "cell_type": "markdown",
   "metadata": {
    "collapsed": true
   },
   "source": [
    "# Save Model"
   ]
  },
  {
   "cell_type": "code",
   "execution_count": 32,
   "metadata": {
    "collapsed": false
   },
   "outputs": [],
   "source": [
    "import sys"
   ]
  },
  {
   "cell_type": "code",
   "execution_count": 33,
   "metadata": {
    "collapsed": true
   },
   "outputs": [],
   "source": [
    "LinearRegression_model.save(sys.argv[1])"
   ]
  }
 ],
 "metadata": {
  "anaconda-cloud": {},
  "kernelspec": {
   "display_name": "Python [default]",
   "language": "python",
   "name": "python3"
  },
  "language_info": {
   "codemirror_mode": {
    "name": "ipython",
    "version": 3
   },
   "file_extension": ".py",
   "mimetype": "text/x-python",
   "name": "python",
   "nbconvert_exporter": "python",
   "pygments_lexer": "ipython3",
   "version": "3.5.2"
  }
 },
 "nbformat": 4,
 "nbformat_minor": 1
}
