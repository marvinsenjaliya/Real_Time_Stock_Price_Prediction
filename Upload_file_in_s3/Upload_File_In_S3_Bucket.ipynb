{
 "cells": [
  {
   "cell_type": "code",
   "execution_count": null,
   "metadata": {
    "collapsed": true
   },
   "outputs": [],
   "source": [
    "import boto3\n",
    "\n",
    "#get keys from file\n",
    "line = list()\n",
    "with open('awskeys.txt' , 'r') as file:\n",
    "    for lines in file:\n",
    "        line.append(lines)\n",
    "        \n",
    "#give credentials to client        \n",
    "s3 = boto3.client(\n",
    "    's3',\n",
    "    aws_access_key_id=line[0],\n",
    "    aws_secret_access_key=line[1],\n",
    ")\n",
    "\n",
    "#create bucket in amazon s3\n",
    "s3.create_bucket(\n",
    "    Bucket='stockpricebuckets',\n",
    "    CreateBucketConfiguration= {'LocationConstraint': 'ap-south-1'}\n",
    ")\n",
    "\n",
    "#upload csv file in s3 bucket\n",
    "s3.upload_file('HistoricalQuotes.csv ','stockpricebucket','Google_Stock_Price_Train.csv')"
   ]
  }
 ],
 "metadata": {
  "anaconda-cloud": {},
  "kernelspec": {
   "display_name": "Python [default]",
   "language": "python",
   "name": "python3"
  },
  "language_info": {
   "codemirror_mode": {
    "name": "ipython",
    "version": 3
   },
   "file_extension": ".py",
   "mimetype": "text/x-python",
   "name": "python",
   "nbconvert_exporter": "python",
   "pygments_lexer": "ipython3",
   "version": "3.5.2"
  }
 },
 "nbformat": 4,
 "nbformat_minor": 1
}
