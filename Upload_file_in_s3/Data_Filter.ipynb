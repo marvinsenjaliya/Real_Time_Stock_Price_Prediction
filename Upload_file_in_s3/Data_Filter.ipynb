{
 "cells": [
  {
   "cell_type": "code",
   "execution_count": 37,
   "metadata": {
    "collapsed": true
   },
   "outputs": [],
   "source": [
    "import pandas as pd"
   ]
  },
  {
   "cell_type": "code",
   "execution_count": 38,
   "metadata": {
    "collapsed": true
   },
   "outputs": [],
   "source": [
    "dataframe = pd.read_csv(\"HistoricalQuotes.csv\")"
   ]
  },
  {
   "cell_type": "code",
   "execution_count": 39,
   "metadata": {
    "collapsed": false,
    "scrolled": true
   },
   "outputs": [
    {
     "data": {
      "text/html": [
       "<div>\n",
       "<style scoped>\n",
       "    .dataframe tbody tr th:only-of-type {\n",
       "        vertical-align: middle;\n",
       "    }\n",
       "\n",
       "    .dataframe tbody tr th {\n",
       "        vertical-align: top;\n",
       "    }\n",
       "\n",
       "    .dataframe thead th {\n",
       "        text-align: right;\n",
       "    }\n",
       "</style>\n",
       "<table border=\"1\" class=\"dataframe\">\n",
       "  <thead>\n",
       "    <tr style=\"text-align: right;\">\n",
       "      <th></th>\n",
       "      <th>Date</th>\n",
       "      <th>Close/Last</th>\n",
       "      <th>Volume</th>\n",
       "      <th>Open</th>\n",
       "      <th>High</th>\n",
       "      <th>Low</th>\n",
       "    </tr>\n",
       "  </thead>\n",
       "  <tbody>\n",
       "    <tr>\n",
       "      <th>0</th>\n",
       "      <td>05/12/2020</td>\n",
       "      <td>$1375.74</td>\n",
       "      <td>1390600</td>\n",
       "      <td>$1407.12</td>\n",
       "      <td>$1415</td>\n",
       "      <td>$1374.77</td>\n",
       "    </tr>\n",
       "    <tr>\n",
       "      <th>1</th>\n",
       "      <td>05/11/2020</td>\n",
       "      <td>$1403.26</td>\n",
       "      <td>1412116</td>\n",
       "      <td>$1378.28</td>\n",
       "      <td>$1416.53</td>\n",
       "      <td>$1377.152</td>\n",
       "    </tr>\n",
       "    <tr>\n",
       "      <th>2</th>\n",
       "      <td>05/08/2020</td>\n",
       "      <td>$1388.37</td>\n",
       "      <td>1388068</td>\n",
       "      <td>$1383.13</td>\n",
       "      <td>$1398.76</td>\n",
       "      <td>$1375.48</td>\n",
       "    </tr>\n",
       "    <tr>\n",
       "      <th>3</th>\n",
       "      <td>05/07/2020</td>\n",
       "      <td>$1372.56</td>\n",
       "      <td>1399759</td>\n",
       "      <td>$1365.94</td>\n",
       "      <td>$1377.6</td>\n",
       "      <td>$1355.27</td>\n",
       "    </tr>\n",
       "    <tr>\n",
       "      <th>4</th>\n",
       "      <td>05/06/2020</td>\n",
       "      <td>$1347.3</td>\n",
       "      <td>1215423</td>\n",
       "      <td>$1361.69</td>\n",
       "      <td>$1371.1199</td>\n",
       "      <td>$1347.29</td>\n",
       "    </tr>\n",
       "  </tbody>\n",
       "</table>\n",
       "</div>"
      ],
      "text/plain": [
       "         Date  Close/Last   Volume       Open         High         Low\n",
       "0  05/12/2020    $1375.74  1390600   $1407.12        $1415    $1374.77\n",
       "1  05/11/2020    $1403.26  1412116   $1378.28     $1416.53   $1377.152\n",
       "2  05/08/2020    $1388.37  1388068   $1383.13     $1398.76    $1375.48\n",
       "3  05/07/2020    $1372.56  1399759   $1365.94      $1377.6    $1355.27\n",
       "4  05/06/2020     $1347.3  1215423   $1361.69   $1371.1199    $1347.29"
      ]
     },
     "execution_count": 39,
     "metadata": {},
     "output_type": "execute_result"
    }
   ],
   "source": [
    "dataframe.head()"
   ]
  },
  {
   "cell_type": "code",
   "execution_count": 40,
   "metadata": {
    "collapsed": true
   },
   "outputs": [],
   "source": [
    "dataframe.rename(columns={c: c.strip() for c in dataframe.columns.values.tolist()}, inplace=True) "
   ]
  },
  {
   "cell_type": "code",
   "execution_count": 44,
   "metadata": {
    "collapsed": false
   },
   "outputs": [
    {
     "data": {
      "text/plain": [
       "Index(['Date', 'Close/Last', 'Volume', 'Open', 'High', 'Low'], dtype='object')"
      ]
     },
     "execution_count": 44,
     "metadata": {},
     "output_type": "execute_result"
    }
   ],
   "source": [
    "dataframe.columns"
   ]
  },
  {
   "cell_type": "code",
   "execution_count": 45,
   "metadata": {
    "collapsed": false
   },
   "outputs": [
    {
     "data": {
      "text/plain": [
       "Index(['Date', 'Close', 'Volume', 'Open', 'High', 'Low'], dtype='object')"
      ]
     },
     "execution_count": 45,
     "metadata": {},
     "output_type": "execute_result"
    }
   ],
   "source": [
    "dataframe.rename(columns={\"Close/Last\" : \"Close\"},inplace = True)\n",
    "dataframe.columns"
   ]
  },
  {
   "cell_type": "code",
   "execution_count": 46,
   "metadata": {
    "collapsed": false
   },
   "outputs": [],
   "source": [
    "dataframe['Close'] = dataframe['Close'].str.replace('$', '').astype(float)\n",
    "dataframe['Open'] = dataframe['Open'].str.replace('$', '').astype(float)\n",
    "dataframe['High'] = dataframe['High'].str.replace('$', '').astype(float)\n",
    "dataframe['Low'] = dataframe['Low'].str.replace('$', '').astype(float)"
   ]
  },
  {
   "cell_type": "code",
   "execution_count": 47,
   "metadata": {
    "collapsed": false
   },
   "outputs": [
    {
     "data": {
      "text/html": [
       "<div>\n",
       "<style scoped>\n",
       "    .dataframe tbody tr th:only-of-type {\n",
       "        vertical-align: middle;\n",
       "    }\n",
       "\n",
       "    .dataframe tbody tr th {\n",
       "        vertical-align: top;\n",
       "    }\n",
       "\n",
       "    .dataframe thead th {\n",
       "        text-align: right;\n",
       "    }\n",
       "</style>\n",
       "<table border=\"1\" class=\"dataframe\">\n",
       "  <thead>\n",
       "    <tr style=\"text-align: right;\">\n",
       "      <th></th>\n",
       "      <th>Date</th>\n",
       "      <th>Close</th>\n",
       "      <th>Volume</th>\n",
       "      <th>Open</th>\n",
       "      <th>High</th>\n",
       "      <th>Low</th>\n",
       "    </tr>\n",
       "  </thead>\n",
       "  <tbody>\n",
       "    <tr>\n",
       "      <th>0</th>\n",
       "      <td>05/12/2020</td>\n",
       "      <td>1375.74</td>\n",
       "      <td>1390600</td>\n",
       "      <td>1407.12</td>\n",
       "      <td>1415.0000</td>\n",
       "      <td>1374.770</td>\n",
       "    </tr>\n",
       "    <tr>\n",
       "      <th>1</th>\n",
       "      <td>05/11/2020</td>\n",
       "      <td>1403.26</td>\n",
       "      <td>1412116</td>\n",
       "      <td>1378.28</td>\n",
       "      <td>1416.5300</td>\n",
       "      <td>1377.152</td>\n",
       "    </tr>\n",
       "    <tr>\n",
       "      <th>2</th>\n",
       "      <td>05/08/2020</td>\n",
       "      <td>1388.37</td>\n",
       "      <td>1388068</td>\n",
       "      <td>1383.13</td>\n",
       "      <td>1398.7600</td>\n",
       "      <td>1375.480</td>\n",
       "    </tr>\n",
       "    <tr>\n",
       "      <th>3</th>\n",
       "      <td>05/07/2020</td>\n",
       "      <td>1372.56</td>\n",
       "      <td>1399759</td>\n",
       "      <td>1365.94</td>\n",
       "      <td>1377.6000</td>\n",
       "      <td>1355.270</td>\n",
       "    </tr>\n",
       "    <tr>\n",
       "      <th>4</th>\n",
       "      <td>05/06/2020</td>\n",
       "      <td>1347.30</td>\n",
       "      <td>1215423</td>\n",
       "      <td>1361.69</td>\n",
       "      <td>1371.1199</td>\n",
       "      <td>1347.290</td>\n",
       "    </tr>\n",
       "  </tbody>\n",
       "</table>\n",
       "</div>"
      ],
      "text/plain": [
       "         Date    Close   Volume     Open       High       Low\n",
       "0  05/12/2020  1375.74  1390600  1407.12  1415.0000  1374.770\n",
       "1  05/11/2020  1403.26  1412116  1378.28  1416.5300  1377.152\n",
       "2  05/08/2020  1388.37  1388068  1383.13  1398.7600  1375.480\n",
       "3  05/07/2020  1372.56  1399759  1365.94  1377.6000  1355.270\n",
       "4  05/06/2020  1347.30  1215423  1361.69  1371.1199  1347.290"
      ]
     },
     "execution_count": 47,
     "metadata": {},
     "output_type": "execute_result"
    }
   ],
   "source": [
    "dataframe.head()"
   ]
  },
  {
   "cell_type": "code",
   "execution_count": 48,
   "metadata": {
    "collapsed": true
   },
   "outputs": [],
   "source": [
    "dataframe.to_csv(\"NewHistoricalQuotes.csv\", index=False)"
   ]
  }
 ],
 "metadata": {
  "anaconda-cloud": {},
  "kernelspec": {
   "display_name": "Python [default]",
   "language": "python",
   "name": "python3"
  },
  "language_info": {
   "codemirror_mode": {
    "name": "ipython",
    "version": 3
   },
   "file_extension": ".py",
   "mimetype": "text/x-python",
   "name": "python",
   "nbconvert_exporter": "python",
   "pygments_lexer": "ipython3",
   "version": "3.5.2"
  }
 },
 "nbformat": 4,
 "nbformat_minor": 1
}
